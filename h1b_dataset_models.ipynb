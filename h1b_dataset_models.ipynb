{
 "cells": [
  {
   "cell_type": "code",
   "execution_count": 3,
   "metadata": {},
   "outputs": [],
   "source": [
    "import os\n",
    "import pandas as pd\n",
    "import numpy as np\n",
    "import matplotlib.pyplot as plt"
   ]
  },
  {
   "cell_type": "code",
   "execution_count": 4,
   "metadata": {},
   "outputs": [
    {
     "name": "stderr",
     "output_type": "stream",
     "text": [
      "/anaconda3/lib/python3.7/site-packages/IPython/core/interactiveshell.py:3020: DtypeWarning: Columns (15,16,17,25) have mixed types. Specify dtype option on import or set low_memory=False.\n",
      "  interactivity=interactivity, compiler=compiler, result=result)\n"
     ]
    }
   ],
   "source": [
    "df= pd.read_csv(\"h1b.csv\")"
   ]
  },
  {
   "cell_type": "code",
   "execution_count": 5,
   "metadata": {},
   "outputs": [],
   "source": [
    "import warnings\n",
    "warnings.filterwarnings(\"ignore\")"
   ]
  },
  {
   "cell_type": "code",
   "execution_count": 6,
   "metadata": {},
   "outputs": [],
   "source": [
    "df.columns= df.columns.str.lower()"
   ]
  },
  {
   "cell_type": "code",
   "execution_count": 7,
   "metadata": {},
   "outputs": [
    {
     "data": {
      "text/plain": [
       "Index(['unnamed: 0', 'case_number', 'case_status', 'case_submitted',\n",
       "       'decision_date', 'visa_class', 'employment_start_date',\n",
       "       'employment_end_date', 'employer_name', 'employer_business_dba',\n",
       "       'employer_address', 'employer_city', 'employer_state',\n",
       "       'employer_postal_code', 'employer_country', 'employer_province',\n",
       "       'employer_phone', 'employer_phone_ext', 'agent_representing_employer',\n",
       "       'agent_attorney_name', 'agent_attorney_city', 'agent_attorney_state',\n",
       "       'job_title', 'soc_code', 'soc_name', 'naics_code', 'total_workers',\n",
       "       'new_employment', 'continued_employment', 'change_previous_employment',\n",
       "       'new_concurrent_employment', 'change_employer', 'amended_petition',\n",
       "       'full_time_position', 'prevailing_wage', 'pw_unit_of_pay',\n",
       "       'pw_wage_level', 'pw_source', 'pw_source_year', 'pw_source_other',\n",
       "       'wage_rate_of_pay_from', 'wage_rate_of_pay_to', 'wage_unit_of_pay',\n",
       "       'h1b_dependent', 'willful_violator', 'support_h1b', 'labor_con_agree',\n",
       "       'public_disclosure_location', 'worksite_city', 'worksite_county',\n",
       "       'worksite_state', 'worksite_postal_code', 'original_cert_date'],\n",
       "      dtype='object')"
      ]
     },
     "execution_count": 7,
     "metadata": {},
     "output_type": "execute_result"
    }
   ],
   "source": [
    "df.columns"
   ]
  },
  {
   "cell_type": "code",
   "execution_count": 8,
   "metadata": {
    "scrolled": true
   },
   "outputs": [],
   "source": [
    "#Remove all descriptive columns\n",
    "cols= [\"unnamed: 0\",\"case_number\",\"employer_address\",\"employer_business_dba\",\"employer_name\",\"employer_phone\",\"employer_phone_ext\"]"
   ]
  },
  {
   "cell_type": "code",
   "execution_count": 9,
   "metadata": {},
   "outputs": [],
   "source": [
    "df.drop(cols,1,inplace=True)"
   ]
  },
  {
   "cell_type": "code",
   "execution_count": 10,
   "metadata": {},
   "outputs": [],
   "source": [
    "#Remove all redundant geographical data- just keep the state variable\n",
    "cols= [\"employer_city\",\"employer_postal_code\",\"employer_country\",\"employer_province\",\"agent_attorney_city\",\"worksite_city\",\"worksite_county\",\"worksite_postal_code\"]"
   ]
  },
  {
   "cell_type": "code",
   "execution_count": 11,
   "metadata": {},
   "outputs": [],
   "source": [
    "df.drop(cols,1,inplace=True)"
   ]
  },
  {
   "cell_type": "code",
   "execution_count": 12,
   "metadata": {},
   "outputs": [],
   "source": [
    "#For some of these, more than 50% of the data in the column is missing. I'm going to write a function to remove these\n",
    "\n",
    "def delete_col(col):\n",
    "    if df[col].isnull().sum()/df.shape[0] >0.4:\n",
    "        df.drop([col],1,inplace=True)"
   ]
  },
  {
   "cell_type": "code",
   "execution_count": 13,
   "metadata": {},
   "outputs": [],
   "source": [
    "for col in df.columns:\n",
    "    delete_col(col)"
   ]
  },
  {
   "cell_type": "code",
   "execution_count": 14,
   "metadata": {},
   "outputs": [
    {
     "data": {
      "text/plain": [
       "Index(['case_status', 'case_submitted', 'decision_date', 'visa_class',\n",
       "       'employment_start_date', 'employment_end_date', 'employer_state',\n",
       "       'agent_representing_employer', 'agent_attorney_name', 'job_title',\n",
       "       'soc_code', 'soc_name', 'naics_code', 'total_workers', 'new_employment',\n",
       "       'continued_employment', 'change_previous_employment',\n",
       "       'new_concurrent_employment', 'change_employer', 'amended_petition',\n",
       "       'full_time_position', 'prevailing_wage', 'pw_unit_of_pay',\n",
       "       'pw_wage_level', 'pw_source', 'pw_source_year', 'pw_source_other',\n",
       "       'wage_rate_of_pay_from', 'wage_rate_of_pay_to', 'wage_unit_of_pay',\n",
       "       'h1b_dependent', 'willful_violator', 'worksite_state'],\n",
       "      dtype='object')"
      ]
     },
     "execution_count": 14,
     "metadata": {},
     "output_type": "execute_result"
    }
   ],
   "source": [
    "df.columns"
   ]
  },
  {
   "cell_type": "code",
   "execution_count": 15,
   "metadata": {},
   "outputs": [
    {
     "data": {
      "text/plain": [
       "case_status                         0\n",
       "case_submitted                      0\n",
       "decision_date                       0\n",
       "visa_class                          0\n",
       "employment_start_date              29\n",
       "employment_end_date                30\n",
       "employer_state                     18\n",
       "agent_representing_employer     96506\n",
       "agent_attorney_name                 0\n",
       "job_title                           5\n",
       "soc_code                            2\n",
       "soc_name                            3\n",
       "naics_code                          7\n",
       "total_workers                       0\n",
       "new_employment                      0\n",
       "continued_employment                0\n",
       "change_previous_employment          0\n",
       "new_concurrent_employment           0\n",
       "change_employer                     0\n",
       "amended_petition                    0\n",
       "full_time_position                  5\n",
       "prevailing_wage                     1\n",
       "pw_unit_of_pay                     46\n",
       "pw_wage_level                  123720\n",
       "pw_source                          46\n",
       "pw_source_year                     45\n",
       "pw_source_other                  6372\n",
       "wage_rate_of_pay_from               0\n",
       "wage_rate_of_pay_to                 1\n",
       "wage_unit_of_pay                    8\n",
       "h1b_dependent                   13742\n",
       "willful_violator                13745\n",
       "worksite_state                      9\n",
       "dtype: int64"
      ]
     },
     "execution_count": 15,
     "metadata": {},
     "output_type": "execute_result"
    }
   ],
   "source": [
    "#Now we need to see how many missing numbers each column has\n",
    "df.isnull().sum()"
   ]
  },
  {
   "cell_type": "code",
   "execution_count": 16,
   "metadata": {},
   "outputs": [],
   "source": [
    "#Dealing with missing data for categorical variables\n",
    "#We will impute the mode for all categorical variables\n",
    "def imputer_categorical(column):\n",
    "        if df[column].isnull().sum()>0:\n",
    "            df[column]= df[column].fillna(df[column].mode()[0])\n",
    "        return df"
   ]
  },
  {
   "cell_type": "code",
   "execution_count": 17,
   "metadata": {},
   "outputs": [],
   "source": [
    "#Dealing with missing data for numerical variables\n",
    "#We will impute the mean for all categorical variables\n",
    "\n",
    "def imputer_numerical(column):\n",
    "        if df[column].isnull().sum()>0:\n",
    "            df[column]= df[column].fillna(df[column].mean())\n",
    "        return df"
   ]
  },
  {
   "cell_type": "code",
   "execution_count": 18,
   "metadata": {},
   "outputs": [
    {
     "name": "stdout",
     "output_type": "stream",
     "text": [
      "<class 'pandas.core.frame.DataFrame'>\n",
      "RangeIndex: 624650 entries, 0 to 624649\n",
      "Data columns (total 33 columns):\n",
      "case_status                    624650 non-null object\n",
      "case_submitted                 624650 non-null object\n",
      "decision_date                  624650 non-null object\n",
      "visa_class                     624650 non-null object\n",
      "employment_start_date          624621 non-null object\n",
      "employment_end_date            624620 non-null object\n",
      "employer_state                 624632 non-null object\n",
      "agent_representing_employer    528144 non-null object\n",
      "agent_attorney_name            624650 non-null object\n",
      "job_title                      624645 non-null object\n",
      "soc_code                       624648 non-null object\n",
      "soc_name                       624647 non-null object\n",
      "naics_code                     624643 non-null object\n",
      "total_workers                  624650 non-null int64\n",
      "new_employment                 624650 non-null int64\n",
      "continued_employment           624650 non-null int64\n",
      "change_previous_employment     624650 non-null int64\n",
      "new_concurrent_employment      624650 non-null int64\n",
      "change_employer                624650 non-null int64\n",
      "amended_petition               624650 non-null int64\n",
      "full_time_position             624645 non-null object\n",
      "prevailing_wage                624649 non-null float64\n",
      "pw_unit_of_pay                 624604 non-null object\n",
      "pw_wage_level                  500930 non-null object\n",
      "pw_source                      624604 non-null object\n",
      "pw_source_year                 624605 non-null float64\n",
      "pw_source_other                618278 non-null object\n",
      "wage_rate_of_pay_from          624650 non-null float64\n",
      "wage_rate_of_pay_to            624649 non-null float64\n",
      "wage_unit_of_pay               624642 non-null object\n",
      "h1b_dependent                  610908 non-null object\n",
      "willful_violator               610905 non-null object\n",
      "worksite_state                 624641 non-null object\n",
      "dtypes: float64(4), int64(7), object(22)\n",
      "memory usage: 157.3+ MB\n"
     ]
    }
   ],
   "source": [
    "#We need to first ensure that the columns have the correct data type\n",
    "df.info()"
   ]
  },
  {
   "cell_type": "code",
   "execution_count": 19,
   "metadata": {},
   "outputs": [],
   "source": [
    "#pw_source_year seems to have the wrong data type\n",
    "df.pw_source_year= df.pw_source_year.astype(str)\n",
    "df.pw_source_year= df.pw_source_year.str.split(\".\")\n",
    "df.pw_source_year=df.pw_source_year.apply(lambda x:x[0])"
   ]
  },
  {
   "cell_type": "code",
   "execution_count": 20,
   "metadata": {},
   "outputs": [],
   "source": [
    "#Separating numerical columns \n",
    "int_cols= list(df.select_dtypes(include='int').columns)\n",
    "float_cols= list(df.select_dtypes(include='float64').columns)\n",
    "num_cols= int_cols+ float_cols"
   ]
  },
  {
   "cell_type": "code",
   "execution_count": 21,
   "metadata": {},
   "outputs": [],
   "source": [
    "for col in num_cols:\n",
    "    imputer_numerical(col)"
   ]
  },
  {
   "cell_type": "code",
   "execution_count": 22,
   "metadata": {},
   "outputs": [
    {
     "data": {
      "text/plain": [
       "case_status                         0\n",
       "case_submitted                      0\n",
       "decision_date                       0\n",
       "visa_class                          0\n",
       "employment_start_date              29\n",
       "employment_end_date                30\n",
       "employer_state                     18\n",
       "agent_representing_employer     96506\n",
       "agent_attorney_name                 0\n",
       "job_title                           5\n",
       "soc_code                            2\n",
       "soc_name                            3\n",
       "naics_code                          7\n",
       "total_workers                       0\n",
       "new_employment                      0\n",
       "continued_employment                0\n",
       "change_previous_employment          0\n",
       "new_concurrent_employment           0\n",
       "change_employer                     0\n",
       "amended_petition                    0\n",
       "full_time_position                  5\n",
       "prevailing_wage                     0\n",
       "pw_unit_of_pay                     46\n",
       "pw_wage_level                  123720\n",
       "pw_source                          46\n",
       "pw_source_year                      0\n",
       "pw_source_other                  6372\n",
       "wage_rate_of_pay_from               0\n",
       "wage_rate_of_pay_to                 0\n",
       "wage_unit_of_pay                    8\n",
       "h1b_dependent                   13742\n",
       "willful_violator                13745\n",
       "worksite_state                      9\n",
       "dtype: int64"
      ]
     },
     "execution_count": 22,
     "metadata": {},
     "output_type": "execute_result"
    }
   ],
   "source": [
    "df.isnull().sum()"
   ]
  },
  {
   "cell_type": "code",
   "execution_count": 23,
   "metadata": {},
   "outputs": [],
   "source": [
    "#Imputing missing values for all other categorical columns\n",
    "for col in df.columns:\n",
    "    imputer_categorical(col)"
   ]
  },
  {
   "cell_type": "code",
   "execution_count": 24,
   "metadata": {
    "scrolled": true
   },
   "outputs": [
    {
     "data": {
      "text/plain": [
       "case_status                    0\n",
       "case_submitted                 0\n",
       "decision_date                  0\n",
       "visa_class                     0\n",
       "employment_start_date          0\n",
       "employment_end_date            0\n",
       "employer_state                 0\n",
       "agent_representing_employer    0\n",
       "agent_attorney_name            0\n",
       "job_title                      0\n",
       "soc_code                       0\n",
       "soc_name                       0\n",
       "naics_code                     0\n",
       "total_workers                  0\n",
       "new_employment                 0\n",
       "continued_employment           0\n",
       "change_previous_employment     0\n",
       "new_concurrent_employment      0\n",
       "change_employer                0\n",
       "amended_petition               0\n",
       "full_time_position             0\n",
       "prevailing_wage                0\n",
       "pw_unit_of_pay                 0\n",
       "pw_wage_level                  0\n",
       "pw_source                      0\n",
       "pw_source_year                 0\n",
       "pw_source_other                0\n",
       "wage_rate_of_pay_from          0\n",
       "wage_rate_of_pay_to            0\n",
       "wage_unit_of_pay               0\n",
       "h1b_dependent                  0\n",
       "willful_violator               0\n",
       "worksite_state                 0\n",
       "dtype: int64"
      ]
     },
     "execution_count": 24,
     "metadata": {},
     "output_type": "execute_result"
    }
   ],
   "source": [
    "df.isnull().sum()"
   ]
  },
  {
   "cell_type": "code",
   "execution_count": 25,
   "metadata": {},
   "outputs": [
    {
     "data": {
      "text/html": [
       "<div>\n",
       "<style scoped>\n",
       "    .dataframe tbody tr th:only-of-type {\n",
       "        vertical-align: middle;\n",
       "    }\n",
       "\n",
       "    .dataframe tbody tr th {\n",
       "        vertical-align: top;\n",
       "    }\n",
       "\n",
       "    .dataframe thead th {\n",
       "        text-align: right;\n",
       "    }\n",
       "</style>\n",
       "<table border=\"1\" class=\"dataframe\">\n",
       "  <thead>\n",
       "    <tr style=\"text-align: right;\">\n",
       "      <th></th>\n",
       "      <th>total_workers</th>\n",
       "      <th>new_employment</th>\n",
       "      <th>continued_employment</th>\n",
       "      <th>change_previous_employment</th>\n",
       "      <th>new_concurrent_employment</th>\n",
       "      <th>change_employer</th>\n",
       "      <th>amended_petition</th>\n",
       "      <th>prevailing_wage</th>\n",
       "      <th>wage_rate_of_pay_from</th>\n",
       "      <th>wage_rate_of_pay_to</th>\n",
       "    </tr>\n",
       "  </thead>\n",
       "  <tbody>\n",
       "    <tr>\n",
       "      <th>count</th>\n",
       "      <td>624650.000000</td>\n",
       "      <td>624650.000000</td>\n",
       "      <td>624650.000000</td>\n",
       "      <td>624650.000000</td>\n",
       "      <td>624650.000000</td>\n",
       "      <td>624650.000000</td>\n",
       "      <td>624650.000000</td>\n",
       "      <td>6.246500e+05</td>\n",
       "      <td>6.246500e+05</td>\n",
       "      <td>6.246500e+05</td>\n",
       "    </tr>\n",
       "    <tr>\n",
       "      <th>mean</th>\n",
       "      <td>1.893800</td>\n",
       "      <td>0.834251</td>\n",
       "      <td>0.326300</td>\n",
       "      <td>0.130657</td>\n",
       "      <td>0.008979</td>\n",
       "      <td>0.259485</td>\n",
       "      <td>0.332703</td>\n",
       "      <td>7.321117e+04</td>\n",
       "      <td>8.285702e+04</td>\n",
       "      <td>2.416596e+04</td>\n",
       "    </tr>\n",
       "    <tr>\n",
       "      <th>std</th>\n",
       "      <td>4.826703</td>\n",
       "      <td>3.556236</td>\n",
       "      <td>1.243793</td>\n",
       "      <td>0.955791</td>\n",
       "      <td>0.157690</td>\n",
       "      <td>1.095563</td>\n",
       "      <td>1.418231</td>\n",
       "      <td>2.574023e+05</td>\n",
       "      <td>4.266316e+04</td>\n",
       "      <td>5.255086e+04</td>\n",
       "    </tr>\n",
       "    <tr>\n",
       "      <th>min</th>\n",
       "      <td>0.000000</td>\n",
       "      <td>0.000000</td>\n",
       "      <td>0.000000</td>\n",
       "      <td>0.000000</td>\n",
       "      <td>0.000000</td>\n",
       "      <td>0.000000</td>\n",
       "      <td>0.000000</td>\n",
       "      <td>0.000000e+00</td>\n",
       "      <td>0.000000e+00</td>\n",
       "      <td>0.000000e+00</td>\n",
       "    </tr>\n",
       "    <tr>\n",
       "      <th>25%</th>\n",
       "      <td>1.000000</td>\n",
       "      <td>0.000000</td>\n",
       "      <td>0.000000</td>\n",
       "      <td>0.000000</td>\n",
       "      <td>0.000000</td>\n",
       "      <td>0.000000</td>\n",
       "      <td>0.000000</td>\n",
       "      <td>5.682600e+04</td>\n",
       "      <td>6.300000e+04</td>\n",
       "      <td>0.000000e+00</td>\n",
       "    </tr>\n",
       "    <tr>\n",
       "      <th>50%</th>\n",
       "      <td>1.000000</td>\n",
       "      <td>0.000000</td>\n",
       "      <td>0.000000</td>\n",
       "      <td>0.000000</td>\n",
       "      <td>0.000000</td>\n",
       "      <td>0.000000</td>\n",
       "      <td>0.000000</td>\n",
       "      <td>7.022100e+04</td>\n",
       "      <td>7.600000e+04</td>\n",
       "      <td>0.000000e+00</td>\n",
       "    </tr>\n",
       "    <tr>\n",
       "      <th>75%</th>\n",
       "      <td>1.000000</td>\n",
       "      <td>1.000000</td>\n",
       "      <td>0.000000</td>\n",
       "      <td>0.000000</td>\n",
       "      <td>0.000000</td>\n",
       "      <td>0.000000</td>\n",
       "      <td>0.000000</td>\n",
       "      <td>8.914900e+04</td>\n",
       "      <td>1.000000e+05</td>\n",
       "      <td>0.000000e+00</td>\n",
       "    </tr>\n",
       "    <tr>\n",
       "      <th>max</th>\n",
       "      <td>155.000000</td>\n",
       "      <td>150.000000</td>\n",
       "      <td>55.000000</td>\n",
       "      <td>50.000000</td>\n",
       "      <td>50.000000</td>\n",
       "      <td>150.000000</td>\n",
       "      <td>50.000000</td>\n",
       "      <td>2.016227e+08</td>\n",
       "      <td>1.688000e+06</td>\n",
       "      <td>3.000000e+06</td>\n",
       "    </tr>\n",
       "  </tbody>\n",
       "</table>\n",
       "</div>"
      ],
      "text/plain": [
       "       total_workers  new_employment  continued_employment  \\\n",
       "count  624650.000000   624650.000000         624650.000000   \n",
       "mean        1.893800        0.834251              0.326300   \n",
       "std         4.826703        3.556236              1.243793   \n",
       "min         0.000000        0.000000              0.000000   \n",
       "25%         1.000000        0.000000              0.000000   \n",
       "50%         1.000000        0.000000              0.000000   \n",
       "75%         1.000000        1.000000              0.000000   \n",
       "max       155.000000      150.000000             55.000000   \n",
       "\n",
       "       change_previous_employment  new_concurrent_employment  change_employer  \\\n",
       "count               624650.000000              624650.000000    624650.000000   \n",
       "mean                     0.130657                   0.008979         0.259485   \n",
       "std                      0.955791                   0.157690         1.095563   \n",
       "min                      0.000000                   0.000000         0.000000   \n",
       "25%                      0.000000                   0.000000         0.000000   \n",
       "50%                      0.000000                   0.000000         0.000000   \n",
       "75%                      0.000000                   0.000000         0.000000   \n",
       "max                     50.000000                  50.000000       150.000000   \n",
       "\n",
       "       amended_petition  prevailing_wage  wage_rate_of_pay_from  \\\n",
       "count     624650.000000     6.246500e+05           6.246500e+05   \n",
       "mean           0.332703     7.321117e+04           8.285702e+04   \n",
       "std            1.418231     2.574023e+05           4.266316e+04   \n",
       "min            0.000000     0.000000e+00           0.000000e+00   \n",
       "25%            0.000000     5.682600e+04           6.300000e+04   \n",
       "50%            0.000000     7.022100e+04           7.600000e+04   \n",
       "75%            0.000000     8.914900e+04           1.000000e+05   \n",
       "max           50.000000     2.016227e+08           1.688000e+06   \n",
       "\n",
       "       wage_rate_of_pay_to  \n",
       "count         6.246500e+05  \n",
       "mean          2.416596e+04  \n",
       "std           5.255086e+04  \n",
       "min           0.000000e+00  \n",
       "25%           0.000000e+00  \n",
       "50%           0.000000e+00  \n",
       "75%           0.000000e+00  \n",
       "max           3.000000e+06  "
      ]
     },
     "execution_count": 25,
     "metadata": {},
     "output_type": "execute_result"
    }
   ],
   "source": [
    "df.describe()"
   ]
  },
  {
   "cell_type": "code",
   "execution_count": 26,
   "metadata": {},
   "outputs": [
    {
     "data": {
      "text/plain": [
       "CERTIFIED              545694\n",
       "CERTIFIED-WITHDRAWN     49704\n",
       "WITHDRAWN               20772\n",
       "DENIED                   8480\n",
       "Name: case_status, dtype: int64"
      ]
     },
     "execution_count": 26,
     "metadata": {},
     "output_type": "execute_result"
    }
   ],
   "source": [
    "#The next thing we need to have a look at is the class imbalance in our target variable\n",
    "df.case_status.value_counts()"
   ]
  },
  {
   "cell_type": "code",
   "execution_count": 27,
   "metadata": {},
   "outputs": [],
   "source": [
    "#We only need certified and denied cases- I will first remove the withdrawn categories\n",
    "final= df.loc[df[\"case_status\"]!=\"WITHDRAWN\"]\n",
    "finale = final.loc[final[\"case_status\"]!=\"CERTIFIED-WITHDRAWN\"]\n",
    "df= finale"
   ]
  },
  {
   "cell_type": "code",
   "execution_count": 28,
   "metadata": {},
   "outputs": [
    {
     "data": {
      "text/plain": [
       "CERTIFIED    545694\n",
       "DENIED         8480\n",
       "Name: case_status, dtype: int64"
      ]
     },
     "execution_count": 28,
     "metadata": {},
     "output_type": "execute_result"
    }
   ],
   "source": [
    "df.case_status.value_counts()"
   ]
  },
  {
   "cell_type": "code",
   "execution_count": 29,
   "metadata": {},
   "outputs": [],
   "source": [
    "#I am going to manually under sample the dominant class to reduce the class imbalance\n",
    "denied= df.loc[df[\"case_status\"]==\"DENIED\"]\n",
    "certified= df.loc[df[\"case_status\"]==\"CERTIFIED\"]\n",
    "certified_sample= certified.sample(frac=0.02)\n",
    "df= pd.concat([denied,certified_sample])\n",
    "df= df.sample(frac=1)"
   ]
  },
  {
   "cell_type": "code",
   "execution_count": 30,
   "metadata": {},
   "outputs": [
    {
     "data": {
      "text/plain": [
       "(19394, 33)"
      ]
     },
     "execution_count": 30,
     "metadata": {},
     "output_type": "execute_result"
    }
   ],
   "source": [
    "df.shape"
   ]
  },
  {
   "cell_type": "code",
   "execution_count": 31,
   "metadata": {},
   "outputs": [],
   "source": [
    "#Dealing with dates\n",
    "import datetime"
   ]
  },
  {
   "cell_type": "code",
   "execution_count": 32,
   "metadata": {},
   "outputs": [],
   "source": [
    "#Converting all dates into datetime objects\n",
    "def date_converter(column):\n",
    "    df[column]= pd.to_datetime(df[column])\n",
    "    return df"
   ]
  },
  {
   "cell_type": "code",
   "execution_count": 33,
   "metadata": {},
   "outputs": [],
   "source": [
    "cols = [\"case_submitted\",\"decision_date\",\"employment_start_date\",\"employment_end_date\"]"
   ]
  },
  {
   "cell_type": "code",
   "execution_count": 34,
   "metadata": {},
   "outputs": [],
   "source": [
    "for x in cols:\n",
    "    date_converter(x)"
   ]
  },
  {
   "cell_type": "code",
   "execution_count": 35,
   "metadata": {},
   "outputs": [],
   "source": [
    "#A function to subtract dates to get two new variables- employment_length,application_duration\n",
    "def date_diff(final_col, end_date, start_date):\n",
    "    df[final_col]= end_date - start_date\n",
    "    df[final_col]= df[final_col].apply(lambda x:str(x))\n",
    "    df[final_col]=df[final_col].str.split(\" \")\n",
    "    df[final_col]=df[final_col].apply(lambda x:x[0])\n",
    "    return df[final_col].value_counts()"
   ]
  },
  {
   "cell_type": "code",
   "execution_count": 36,
   "metadata": {},
   "outputs": [
    {
     "data": {
      "text/plain": [
       "6     8711\n",
       "4     3248\n",
       "7     1901\n",
       "2     1602\n",
       "5     1585\n",
       "1     1193\n",
       "3     1028\n",
       "8      117\n",
       "10       4\n",
       "0        3\n",
       "9        2\n",
       "Name: application_duration, dtype: int64"
      ]
     },
     "execution_count": 36,
     "metadata": {},
     "output_type": "execute_result"
    }
   ],
   "source": [
    "#Application duration\n",
    "end_date = df.decision_date\n",
    "start_date= df.case_submitted\n",
    "final_col= \"application_duration\"\n",
    "date_diff(final_col,end_date,start_date)"
   ]
  },
  {
   "cell_type": "code",
   "execution_count": 37,
   "metadata": {},
   "outputs": [
    {
     "data": {
      "text/plain": [
       "1095    9723\n",
       "1096    3743\n",
       "1094    1986\n",
       "729      610\n",
       "730      574\n",
       "1093     494\n",
       "364      183\n",
       "365      108\n",
       "1077      50\n",
       "1091      44\n",
       "1092      43\n",
       "770       36\n",
       "728       33\n",
       "1087      31\n",
       "1089      29\n",
       "1065      24\n",
       "1064      19\n",
       "1090      19\n",
       "1083      18\n",
       "727       18\n",
       "1084      16\n",
       "1088      16\n",
       "1086      13\n",
       "998       13\n",
       "1066      13\n",
       "1085      13\n",
       "1082      12\n",
       "1028      12\n",
       "1080      11\n",
       "545       11\n",
       "        ... \n",
       "542        1\n",
       "579        1\n",
       "932        1\n",
       "271        1\n",
       "666        1\n",
       "282        1\n",
       "811        1\n",
       "338        1\n",
       "605        1\n",
       "1025       1\n",
       "952        1\n",
       "179        1\n",
       "688        1\n",
       "919        1\n",
       "328        1\n",
       "631        1\n",
       "620        1\n",
       "925        1\n",
       "250        1\n",
       "752        1\n",
       "609        1\n",
       "571        1\n",
       "756        1\n",
       "941        1\n",
       "292        1\n",
       "903        1\n",
       "885        1\n",
       "76         1\n",
       "202        1\n",
       "480        1\n",
       "Name: employment_length, Length: 727, dtype: int64"
      ]
     },
     "execution_count": 37,
     "metadata": {},
     "output_type": "execute_result"
    }
   ],
   "source": [
    "#Employment length\n",
    "end_date = df.employment_end_date\n",
    "start_date= df.employment_start_date\n",
    "final_col= \"employment_length\"\n",
    "date_diff(final_col,end_date,start_date)"
   ]
  },
  {
   "cell_type": "code",
   "execution_count": 38,
   "metadata": {},
   "outputs": [],
   "source": [
    "#Now we can drop the original date columns\n",
    "df.drop([\"case_submitted\",\"decision_date\",\"employment_start_date\",\"employment_end_date\"],1,inplace=True)"
   ]
  },
  {
   "cell_type": "code",
   "execution_count": 79,
   "metadata": {},
   "outputs": [],
   "source": [
    "df.employment_length= df.employment_length.astype(int)\n",
    "df.application_duration= df.application_duration.astype(int)"
   ]
  },
  {
   "cell_type": "code",
   "execution_count": 80,
   "metadata": {},
   "outputs": [
    {
     "ename": "KeyError",
     "evalue": "\"['soc_code' 'job_title'] not found in axis\"",
     "output_type": "error",
     "traceback": [
      "\u001b[0;31m---------------------------------------------------------------------------\u001b[0m",
      "\u001b[0;31mKeyError\u001b[0m                                  Traceback (most recent call last)",
      "\u001b[0;32m<ipython-input-80-4cee910cad24>\u001b[0m in \u001b[0;36m<module>\u001b[0;34m\u001b[0m\n\u001b[1;32m      1\u001b[0m \u001b[0;31m#Dropping job title and soc code as they are redundant\u001b[0m\u001b[0;34m\u001b[0m\u001b[0;34m\u001b[0m\u001b[0;34m\u001b[0m\u001b[0m\n\u001b[0;32m----> 2\u001b[0;31m \u001b[0mdf\u001b[0m\u001b[0;34m.\u001b[0m\u001b[0mdrop\u001b[0m\u001b[0;34m(\u001b[0m\u001b[0;34m[\u001b[0m\u001b[0;34m\"soc_code\"\u001b[0m\u001b[0;34m,\u001b[0m\u001b[0;34m\"job_title\"\u001b[0m\u001b[0;34m]\u001b[0m\u001b[0;34m,\u001b[0m\u001b[0;36m1\u001b[0m\u001b[0;34m,\u001b[0m\u001b[0minplace\u001b[0m\u001b[0;34m=\u001b[0m\u001b[0;32mTrue\u001b[0m\u001b[0;34m)\u001b[0m\u001b[0;34m\u001b[0m\u001b[0;34m\u001b[0m\u001b[0m\n\u001b[0m",
      "\u001b[0;32m/anaconda3/lib/python3.7/site-packages/pandas/core/frame.py\u001b[0m in \u001b[0;36mdrop\u001b[0;34m(self, labels, axis, index, columns, level, inplace, errors)\u001b[0m\n\u001b[1;32m   3695\u001b[0m                                            \u001b[0mindex\u001b[0m\u001b[0;34m=\u001b[0m\u001b[0mindex\u001b[0m\u001b[0;34m,\u001b[0m \u001b[0mcolumns\u001b[0m\u001b[0;34m=\u001b[0m\u001b[0mcolumns\u001b[0m\u001b[0;34m,\u001b[0m\u001b[0;34m\u001b[0m\u001b[0;34m\u001b[0m\u001b[0m\n\u001b[1;32m   3696\u001b[0m                                            \u001b[0mlevel\u001b[0m\u001b[0;34m=\u001b[0m\u001b[0mlevel\u001b[0m\u001b[0;34m,\u001b[0m \u001b[0minplace\u001b[0m\u001b[0;34m=\u001b[0m\u001b[0minplace\u001b[0m\u001b[0;34m,\u001b[0m\u001b[0;34m\u001b[0m\u001b[0;34m\u001b[0m\u001b[0m\n\u001b[0;32m-> 3697\u001b[0;31m                                            errors=errors)\n\u001b[0m\u001b[1;32m   3698\u001b[0m \u001b[0;34m\u001b[0m\u001b[0m\n\u001b[1;32m   3699\u001b[0m     @rewrite_axis_style_signature('mapper', [('copy', True),\n",
      "\u001b[0;32m/anaconda3/lib/python3.7/site-packages/pandas/core/generic.py\u001b[0m in \u001b[0;36mdrop\u001b[0;34m(self, labels, axis, index, columns, level, inplace, errors)\u001b[0m\n\u001b[1;32m   3109\u001b[0m         \u001b[0;32mfor\u001b[0m \u001b[0maxis\u001b[0m\u001b[0;34m,\u001b[0m \u001b[0mlabels\u001b[0m \u001b[0;32min\u001b[0m \u001b[0maxes\u001b[0m\u001b[0;34m.\u001b[0m\u001b[0mitems\u001b[0m\u001b[0;34m(\u001b[0m\u001b[0;34m)\u001b[0m\u001b[0;34m:\u001b[0m\u001b[0;34m\u001b[0m\u001b[0;34m\u001b[0m\u001b[0m\n\u001b[1;32m   3110\u001b[0m             \u001b[0;32mif\u001b[0m \u001b[0mlabels\u001b[0m \u001b[0;32mis\u001b[0m \u001b[0;32mnot\u001b[0m \u001b[0;32mNone\u001b[0m\u001b[0;34m:\u001b[0m\u001b[0;34m\u001b[0m\u001b[0;34m\u001b[0m\u001b[0m\n\u001b[0;32m-> 3111\u001b[0;31m                 \u001b[0mobj\u001b[0m \u001b[0;34m=\u001b[0m \u001b[0mobj\u001b[0m\u001b[0;34m.\u001b[0m\u001b[0m_drop_axis\u001b[0m\u001b[0;34m(\u001b[0m\u001b[0mlabels\u001b[0m\u001b[0;34m,\u001b[0m \u001b[0maxis\u001b[0m\u001b[0;34m,\u001b[0m \u001b[0mlevel\u001b[0m\u001b[0;34m=\u001b[0m\u001b[0mlevel\u001b[0m\u001b[0;34m,\u001b[0m \u001b[0merrors\u001b[0m\u001b[0;34m=\u001b[0m\u001b[0merrors\u001b[0m\u001b[0;34m)\u001b[0m\u001b[0;34m\u001b[0m\u001b[0;34m\u001b[0m\u001b[0m\n\u001b[0m\u001b[1;32m   3112\u001b[0m \u001b[0;34m\u001b[0m\u001b[0m\n\u001b[1;32m   3113\u001b[0m         \u001b[0;32mif\u001b[0m \u001b[0minplace\u001b[0m\u001b[0;34m:\u001b[0m\u001b[0;34m\u001b[0m\u001b[0;34m\u001b[0m\u001b[0m\n",
      "\u001b[0;32m/anaconda3/lib/python3.7/site-packages/pandas/core/generic.py\u001b[0m in \u001b[0;36m_drop_axis\u001b[0;34m(self, labels, axis, level, errors)\u001b[0m\n\u001b[1;32m   3141\u001b[0m                 \u001b[0mnew_axis\u001b[0m \u001b[0;34m=\u001b[0m \u001b[0maxis\u001b[0m\u001b[0;34m.\u001b[0m\u001b[0mdrop\u001b[0m\u001b[0;34m(\u001b[0m\u001b[0mlabels\u001b[0m\u001b[0;34m,\u001b[0m \u001b[0mlevel\u001b[0m\u001b[0;34m=\u001b[0m\u001b[0mlevel\u001b[0m\u001b[0;34m,\u001b[0m \u001b[0merrors\u001b[0m\u001b[0;34m=\u001b[0m\u001b[0merrors\u001b[0m\u001b[0;34m)\u001b[0m\u001b[0;34m\u001b[0m\u001b[0;34m\u001b[0m\u001b[0m\n\u001b[1;32m   3142\u001b[0m             \u001b[0;32melse\u001b[0m\u001b[0;34m:\u001b[0m\u001b[0;34m\u001b[0m\u001b[0;34m\u001b[0m\u001b[0m\n\u001b[0;32m-> 3143\u001b[0;31m                 \u001b[0mnew_axis\u001b[0m \u001b[0;34m=\u001b[0m \u001b[0maxis\u001b[0m\u001b[0;34m.\u001b[0m\u001b[0mdrop\u001b[0m\u001b[0;34m(\u001b[0m\u001b[0mlabels\u001b[0m\u001b[0;34m,\u001b[0m \u001b[0merrors\u001b[0m\u001b[0;34m=\u001b[0m\u001b[0merrors\u001b[0m\u001b[0;34m)\u001b[0m\u001b[0;34m\u001b[0m\u001b[0;34m\u001b[0m\u001b[0m\n\u001b[0m\u001b[1;32m   3144\u001b[0m             \u001b[0mresult\u001b[0m \u001b[0;34m=\u001b[0m \u001b[0mself\u001b[0m\u001b[0;34m.\u001b[0m\u001b[0mreindex\u001b[0m\u001b[0;34m(\u001b[0m\u001b[0;34m**\u001b[0m\u001b[0;34m{\u001b[0m\u001b[0maxis_name\u001b[0m\u001b[0;34m:\u001b[0m \u001b[0mnew_axis\u001b[0m\u001b[0;34m}\u001b[0m\u001b[0;34m)\u001b[0m\u001b[0;34m\u001b[0m\u001b[0;34m\u001b[0m\u001b[0m\n\u001b[1;32m   3145\u001b[0m \u001b[0;34m\u001b[0m\u001b[0m\n",
      "\u001b[0;32m/anaconda3/lib/python3.7/site-packages/pandas/core/indexes/base.py\u001b[0m in \u001b[0;36mdrop\u001b[0;34m(self, labels, errors)\u001b[0m\n\u001b[1;32m   4402\u001b[0m             \u001b[0;32mif\u001b[0m \u001b[0merrors\u001b[0m \u001b[0;34m!=\u001b[0m \u001b[0;34m'ignore'\u001b[0m\u001b[0;34m:\u001b[0m\u001b[0;34m\u001b[0m\u001b[0;34m\u001b[0m\u001b[0m\n\u001b[1;32m   4403\u001b[0m                 raise KeyError(\n\u001b[0;32m-> 4404\u001b[0;31m                     '{} not found in axis'.format(labels[mask]))\n\u001b[0m\u001b[1;32m   4405\u001b[0m             \u001b[0mindexer\u001b[0m \u001b[0;34m=\u001b[0m \u001b[0mindexer\u001b[0m\u001b[0;34m[\u001b[0m\u001b[0;34m~\u001b[0m\u001b[0mmask\u001b[0m\u001b[0;34m]\u001b[0m\u001b[0;34m\u001b[0m\u001b[0;34m\u001b[0m\u001b[0m\n\u001b[1;32m   4406\u001b[0m         \u001b[0;32mreturn\u001b[0m \u001b[0mself\u001b[0m\u001b[0;34m.\u001b[0m\u001b[0mdelete\u001b[0m\u001b[0;34m(\u001b[0m\u001b[0mindexer\u001b[0m\u001b[0;34m)\u001b[0m\u001b[0;34m\u001b[0m\u001b[0;34m\u001b[0m\u001b[0m\n",
      "\u001b[0;31mKeyError\u001b[0m: \"['soc_code' 'job_title'] not found in axis\""
     ]
    }
   ],
   "source": [
    "#Dropping job title and soc code as they are redundant \n",
    "df.drop([\"soc_code\",\"job_title\"],1,inplace=True)"
   ]
  },
  {
   "cell_type": "code",
   "execution_count": 81,
   "metadata": {},
   "outputs": [
    {
     "name": "stdout",
     "output_type": "stream",
     "text": [
      "<class 'pandas.core.frame.DataFrame'>\n",
      "Int64Index: 19394 entries, 41894 to 98093\n",
      "Data columns (total 29 columns):\n",
      "case_status                    19394 non-null object\n",
      "visa_class                     19394 non-null object\n",
      "employer_state                 19394 non-null object\n",
      "agent_representing_employer    19394 non-null object\n",
      "agent_attorney_name            19394 non-null object\n",
      "soc_name                       19394 non-null object\n",
      "naics_code                     19394 non-null object\n",
      "total_workers                  19394 non-null int64\n",
      "new_employment                 19394 non-null int64\n",
      "continued_employment           19394 non-null int64\n",
      "change_previous_employment     19394 non-null int64\n",
      "new_concurrent_employment      19394 non-null int64\n",
      "change_employer                19394 non-null int64\n",
      "amended_petition               19394 non-null int64\n",
      "full_time_position             19394 non-null object\n",
      "prevailing_wage                19394 non-null float64\n",
      "pw_unit_of_pay                 19394 non-null object\n",
      "pw_wage_level                  19394 non-null object\n",
      "pw_source                      19394 non-null object\n",
      "pw_source_year                 19394 non-null object\n",
      "pw_source_other                19394 non-null object\n",
      "wage_rate_of_pay_from          19394 non-null float64\n",
      "wage_rate_of_pay_to            19394 non-null float64\n",
      "wage_unit_of_pay               19394 non-null object\n",
      "h1b_dependent                  19394 non-null object\n",
      "willful_violator               19394 non-null object\n",
      "worksite_state                 19394 non-null object\n",
      "application_duration           19394 non-null int64\n",
      "employment_length              19394 non-null int64\n",
      "dtypes: float64(3), int64(9), object(17)\n",
      "memory usage: 4.4+ MB\n"
     ]
    }
   ],
   "source": [
    "df.info()"
   ]
  },
  {
   "cell_type": "code",
   "execution_count": 82,
   "metadata": {},
   "outputs": [
    {
     "data": {
      "text/html": [
       "<div>\n",
       "<style scoped>\n",
       "    .dataframe tbody tr th:only-of-type {\n",
       "        vertical-align: middle;\n",
       "    }\n",
       "\n",
       "    .dataframe tbody tr th {\n",
       "        vertical-align: top;\n",
       "    }\n",
       "\n",
       "    .dataframe thead th {\n",
       "        text-align: right;\n",
       "    }\n",
       "</style>\n",
       "<table border=\"1\" class=\"dataframe\">\n",
       "  <thead>\n",
       "    <tr style=\"text-align: right;\">\n",
       "      <th></th>\n",
       "      <th>total_workers</th>\n",
       "      <th>new_employment</th>\n",
       "      <th>continued_employment</th>\n",
       "      <th>change_previous_employment</th>\n",
       "      <th>new_concurrent_employment</th>\n",
       "      <th>change_employer</th>\n",
       "      <th>amended_petition</th>\n",
       "      <th>prevailing_wage</th>\n",
       "      <th>wage_rate_of_pay_from</th>\n",
       "      <th>wage_rate_of_pay_to</th>\n",
       "      <th>application_duration</th>\n",
       "      <th>employment_length</th>\n",
       "    </tr>\n",
       "  </thead>\n",
       "  <tbody>\n",
       "    <tr>\n",
       "      <th>count</th>\n",
       "      <td>19394.000000</td>\n",
       "      <td>19394.000000</td>\n",
       "      <td>19394.000000</td>\n",
       "      <td>19394.000000</td>\n",
       "      <td>19394.000000</td>\n",
       "      <td>19394.000000</td>\n",
       "      <td>19394.000000</td>\n",
       "      <td>1.939400e+04</td>\n",
       "      <td>1.939400e+04</td>\n",
       "      <td>1.939400e+04</td>\n",
       "      <td>19394.000000</td>\n",
       "      <td>19394.000000</td>\n",
       "    </tr>\n",
       "    <tr>\n",
       "      <th>mean</th>\n",
       "      <td>2.080334</td>\n",
       "      <td>0.858616</td>\n",
       "      <td>0.347118</td>\n",
       "      <td>0.172528</td>\n",
       "      <td>0.012375</td>\n",
       "      <td>0.285398</td>\n",
       "      <td>0.342168</td>\n",
       "      <td>8.079360e+04</td>\n",
       "      <td>7.753920e+04</td>\n",
       "      <td>2.538978e+04</td>\n",
       "      <td>4.896618</td>\n",
       "      <td>1022.996339</td>\n",
       "    </tr>\n",
       "    <tr>\n",
       "      <th>std</th>\n",
       "      <td>5.772607</td>\n",
       "      <td>3.872832</td>\n",
       "      <td>1.751121</td>\n",
       "      <td>1.721535</td>\n",
       "      <td>0.389428</td>\n",
       "      <td>1.758821</td>\n",
       "      <td>1.848450</td>\n",
       "      <td>1.449753e+06</td>\n",
       "      <td>4.846789e+04</td>\n",
       "      <td>5.417952e+04</td>\n",
       "      <td>1.732865</td>\n",
       "      <td>190.872687</td>\n",
       "    </tr>\n",
       "    <tr>\n",
       "      <th>min</th>\n",
       "      <td>1.000000</td>\n",
       "      <td>0.000000</td>\n",
       "      <td>0.000000</td>\n",
       "      <td>0.000000</td>\n",
       "      <td>0.000000</td>\n",
       "      <td>0.000000</td>\n",
       "      <td>0.000000</td>\n",
       "      <td>0.000000e+00</td>\n",
       "      <td>0.000000e+00</td>\n",
       "      <td>0.000000e+00</td>\n",
       "      <td>0.000000</td>\n",
       "      <td>-2558.000000</td>\n",
       "    </tr>\n",
       "    <tr>\n",
       "      <th>25%</th>\n",
       "      <td>1.000000</td>\n",
       "      <td>0.000000</td>\n",
       "      <td>0.000000</td>\n",
       "      <td>0.000000</td>\n",
       "      <td>0.000000</td>\n",
       "      <td>0.000000</td>\n",
       "      <td>0.000000</td>\n",
       "      <td>5.312300e+04</td>\n",
       "      <td>6.000000e+04</td>\n",
       "      <td>0.000000e+00</td>\n",
       "      <td>4.000000</td>\n",
       "      <td>1094.000000</td>\n",
       "    </tr>\n",
       "    <tr>\n",
       "      <th>50%</th>\n",
       "      <td>1.000000</td>\n",
       "      <td>0.000000</td>\n",
       "      <td>0.000000</td>\n",
       "      <td>0.000000</td>\n",
       "      <td>0.000000</td>\n",
       "      <td>0.000000</td>\n",
       "      <td>0.000000</td>\n",
       "      <td>6.831750e+04</td>\n",
       "      <td>7.300000e+04</td>\n",
       "      <td>0.000000e+00</td>\n",
       "      <td>6.000000</td>\n",
       "      <td>1095.000000</td>\n",
       "    </tr>\n",
       "    <tr>\n",
       "      <th>75%</th>\n",
       "      <td>1.000000</td>\n",
       "      <td>1.000000</td>\n",
       "      <td>0.000000</td>\n",
       "      <td>0.000000</td>\n",
       "      <td>0.000000</td>\n",
       "      <td>0.000000</td>\n",
       "      <td>0.000000</td>\n",
       "      <td>8.799600e+04</td>\n",
       "      <td>9.550000e+04</td>\n",
       "      <td>0.000000e+00</td>\n",
       "      <td>6.000000</td>\n",
       "      <td>1095.000000</td>\n",
       "    </tr>\n",
       "    <tr>\n",
       "      <th>max</th>\n",
       "      <td>155.000000</td>\n",
       "      <td>150.000000</td>\n",
       "      <td>55.000000</td>\n",
       "      <td>50.000000</td>\n",
       "      <td>50.000000</td>\n",
       "      <td>100.000000</td>\n",
       "      <td>50.000000</td>\n",
       "      <td>2.016227e+08</td>\n",
       "      <td>1.290000e+06</td>\n",
       "      <td>1.100000e+06</td>\n",
       "      <td>10.000000</td>\n",
       "      <td>1460.000000</td>\n",
       "    </tr>\n",
       "  </tbody>\n",
       "</table>\n",
       "</div>"
      ],
      "text/plain": [
       "       total_workers  new_employment  continued_employment  \\\n",
       "count   19394.000000    19394.000000          19394.000000   \n",
       "mean        2.080334        0.858616              0.347118   \n",
       "std         5.772607        3.872832              1.751121   \n",
       "min         1.000000        0.000000              0.000000   \n",
       "25%         1.000000        0.000000              0.000000   \n",
       "50%         1.000000        0.000000              0.000000   \n",
       "75%         1.000000        1.000000              0.000000   \n",
       "max       155.000000      150.000000             55.000000   \n",
       "\n",
       "       change_previous_employment  new_concurrent_employment  change_employer  \\\n",
       "count                19394.000000               19394.000000     19394.000000   \n",
       "mean                     0.172528                   0.012375         0.285398   \n",
       "std                      1.721535                   0.389428         1.758821   \n",
       "min                      0.000000                   0.000000         0.000000   \n",
       "25%                      0.000000                   0.000000         0.000000   \n",
       "50%                      0.000000                   0.000000         0.000000   \n",
       "75%                      0.000000                   0.000000         0.000000   \n",
       "max                     50.000000                  50.000000       100.000000   \n",
       "\n",
       "       amended_petition  prevailing_wage  wage_rate_of_pay_from  \\\n",
       "count      19394.000000     1.939400e+04           1.939400e+04   \n",
       "mean           0.342168     8.079360e+04           7.753920e+04   \n",
       "std            1.848450     1.449753e+06           4.846789e+04   \n",
       "min            0.000000     0.000000e+00           0.000000e+00   \n",
       "25%            0.000000     5.312300e+04           6.000000e+04   \n",
       "50%            0.000000     6.831750e+04           7.300000e+04   \n",
       "75%            0.000000     8.799600e+04           9.550000e+04   \n",
       "max           50.000000     2.016227e+08           1.290000e+06   \n",
       "\n",
       "       wage_rate_of_pay_to  application_duration  employment_length  \n",
       "count         1.939400e+04          19394.000000       19394.000000  \n",
       "mean          2.538978e+04              4.896618        1022.996339  \n",
       "std           5.417952e+04              1.732865         190.872687  \n",
       "min           0.000000e+00              0.000000       -2558.000000  \n",
       "25%           0.000000e+00              4.000000        1094.000000  \n",
       "50%           0.000000e+00              6.000000        1095.000000  \n",
       "75%           0.000000e+00              6.000000        1095.000000  \n",
       "max           1.100000e+06             10.000000        1460.000000  "
      ]
     },
     "execution_count": 82,
     "metadata": {},
     "output_type": "execute_result"
    }
   ],
   "source": [
    "df.describe()"
   ]
  },
  {
   "cell_type": "code",
   "execution_count": 83,
   "metadata": {},
   "outputs": [
    {
     "data": {
      "text/plain": [
       "Index(['case_status', 'visa_class', 'employer_state',\n",
       "       'agent_representing_employer', 'agent_attorney_name', 'soc_name',\n",
       "       'naics_code', 'total_workers', 'new_employment', 'continued_employment',\n",
       "       'change_previous_employment', 'new_concurrent_employment',\n",
       "       'change_employer', 'amended_petition', 'full_time_position',\n",
       "       'prevailing_wage', 'pw_unit_of_pay', 'pw_wage_level', 'pw_source',\n",
       "       'pw_source_year', 'pw_source_other', 'wage_rate_of_pay_from',\n",
       "       'wage_rate_of_pay_to', 'wage_unit_of_pay', 'h1b_dependent',\n",
       "       'willful_violator', 'worksite_state', 'application_duration',\n",
       "       'employment_length'],\n",
       "      dtype='object')"
      ]
     },
     "execution_count": 83,
     "metadata": {},
     "output_type": "execute_result"
    }
   ],
   "source": [
    "#Some basic EDA to get insights on the data\n",
    "\n",
    "df.columns"
   ]
  },
  {
   "cell_type": "code",
   "execution_count": 84,
   "metadata": {},
   "outputs": [
    {
     "name": "stdout",
     "output_type": "stream",
     "text": [
      "Certified candidates mean equal 73288.59692046906\n",
      "Denied candidates mean equal 90452.74517075183\n"
     ]
    }
   ],
   "source": [
    "#Is there a significant difference in the wages of certified vs. denied candidates?\n",
    "certified= df.loc[df[\"case_status\"]==\"CERTIFIED\"]\n",
    "print (\"Certified candidates mean equal \"+str(certified.prevailing_wage.mean()))\n",
    "denied= df.loc[df[\"case_status\"]==\"DENIED\"]\n",
    "print (\"Denied candidates mean equal \"+str(denied.prevailing_wage.mean()))"
   ]
  },
  {
   "cell_type": "code",
   "execution_count": 85,
   "metadata": {},
   "outputs": [
    {
     "name": "stdout",
     "output_type": "stream",
     "text": [
      "Certified candidates median equal 70429.0\n",
      "Denied candidates median equal 64248.5\n"
     ]
    }
   ],
   "source": [
    "#Surprisingly it seems as though the denied category has even higher wages. \n",
    "#But this could be because of outliers. Lets look at the median comparison instead\n",
    "print (\"Certified candidates median equal \"+str(certified.prevailing_wage.median()))\n",
    "print (\"Denied candidates median equal \"+str(denied.prevailing_wage.median()))"
   ]
  },
  {
   "cell_type": "code",
   "execution_count": 86,
   "metadata": {},
   "outputs": [],
   "source": [
    "#The denied candidates' data seems to be highly skewed due to outliers\n",
    "#The certified candidates' data seems normally distributed"
   ]
  },
  {
   "cell_type": "code",
   "execution_count": 87,
   "metadata": {},
   "outputs": [
    {
     "data": {
      "text/plain": [
       "Year         17183\n",
       "Hour          2103\n",
       "Month           60\n",
       "Week            24\n",
       "Bi-Weekly       24\n",
       "Name: pw_unit_of_pay, dtype: int64"
      ]
     },
     "execution_count": 87,
     "metadata": {},
     "output_type": "execute_result"
    }
   ],
   "source": [
    "#What about employment type?\n",
    "df.pw_unit_of_pay.value_counts()"
   ]
  },
  {
   "cell_type": "code",
   "execution_count": 88,
   "metadata": {},
   "outputs": [
    {
     "data": {
      "text/plain": [
       "Text(0.5, 1.0, 'How are workers in the denied category paid?')"
      ]
     },
     "execution_count": 88,
     "metadata": {},
     "output_type": "execute_result"
    },
    {
     "data": {
      "image/png": "[encoded data removed]",
      "text/plain": [
       "<Figure size 432x288 with 1 Axes>"
      ]
     },
     "metadata": {
      "needs_background": "light"
     },
     "output_type": "display_data"
    }
   ],
   "source": [
    "denied_pay= denied.pw_unit_of_pay.value_counts()\n",
    "plt.bar(denied_pay.index,denied_pay)\n",
    "plt.title(\"How are workers in the denied category paid?\")"
   ]
  },
  {
   "cell_type": "code",
   "execution_count": 89,
   "metadata": {},
   "outputs": [
    {
     "data": {
      "text/plain": [
       "Text(0.5, 1.0, 'How are workers in the certified category paid?')"
      ]
     },
     "execution_count": 89,
     "metadata": {},
     "output_type": "execute_result"
    },
    {
     "data": {
      "image/png": "[encoded data removed]",
      "text/plain": [
       "<Figure size 432x288 with 1 Axes>"
      ]
     },
     "metadata": {
      "needs_background": "light"
     },
     "output_type": "display_data"
    }
   ],
   "source": [
    "certified_pay= certified.pw_unit_of_pay.value_counts()\n",
    "plt.bar(certified_pay.index,certified_pay)\n",
    "plt.title(\"How are workers in the certified category paid?\")"
   ]
  },
  {
   "cell_type": "code",
   "execution_count": 90,
   "metadata": {},
   "outputs": [],
   "source": [
    "#The denied category seems to have a higher proportion of workers paid hourly, ie contracters"
   ]
  },
  {
   "cell_type": "code",
   "execution_count": 91,
   "metadata": {},
   "outputs": [
    {
     "name": "stdout",
     "output_type": "stream",
     "text": [
      "The avg employment duration of the denied category is 18.04255319148936\n"
     ]
    }
   ],
   "source": [
    "#Lets look at the average employment duration of the denied class\n",
    "print (\"The avg employment duration of the denied category is \"+str(denied.employment_length.value_counts().mean()))"
   ]
  },
  {
   "cell_type": "code",
   "execution_count": 92,
   "metadata": {},
   "outputs": [
    {
     "name": "stdout",
     "output_type": "stream",
     "text": [
      "The avg employment duration of the certified category is 22.503092783505156\n"
     ]
    }
   ],
   "source": [
    "print (\"The avg employment duration of the certified category is \"+ str(certified.employment_length.value_counts().mean()))"
   ]
  },
  {
   "cell_type": "code",
   "execution_count": 93,
   "metadata": {},
   "outputs": [],
   "source": [
    "X= df.drop([\"case_status\"],1)"
   ]
  },
  {
   "cell_type": "code",
   "execution_count": 94,
   "metadata": {},
   "outputs": [
    {
     "data": {
      "text/plain": [
       "(19394, 28)"
      ]
     },
     "execution_count": 94,
     "metadata": {},
     "output_type": "execute_result"
    }
   ],
   "source": [
    "X.shape"
   ]
  },
  {
   "cell_type": "code",
   "execution_count": 95,
   "metadata": {},
   "outputs": [],
   "source": [
    "X= pd.get_dummies(X)"
   ]
  },
  {
   "cell_type": "code",
   "execution_count": 96,
   "metadata": {},
   "outputs": [],
   "source": [
    "from sklearn.preprocessing import LabelEncoder"
   ]
  },
  {
   "cell_type": "code",
   "execution_count": 97,
   "metadata": {},
   "outputs": [],
   "source": [
    "y= df[\"case_status\"]\n",
    "le= LabelEncoder()\n",
    "le.fit(y)\n",
    "y= le.transform(y)"
   ]
  },
  {
   "cell_type": "code",
   "execution_count": 98,
   "metadata": {},
   "outputs": [],
   "source": [
    "from sklearn.model_selection import train_test_split as tts"
   ]
  },
  {
   "cell_type": "code",
   "execution_count": 99,
   "metadata": {},
   "outputs": [],
   "source": [
    "X_train,X_test,y_train,y_test= tts(X,y,test_size=0.3,random_state=42)"
   ]
  },
  {
   "cell_type": "code",
   "execution_count": 100,
   "metadata": {},
   "outputs": [],
   "source": [
    "from sklearn.linear_model import LogisticRegression\n",
    "from sklearn.metrics import accuracy_score"
   ]
  },
  {
   "cell_type": "code",
   "execution_count": 101,
   "metadata": {},
   "outputs": [],
   "source": [
    "lreg= LogisticRegression()"
   ]
  },
  {
   "cell_type": "code",
   "execution_count": 102,
   "metadata": {},
   "outputs": [
    {
     "data": {
      "text/plain": [
       "LogisticRegression(C=1.0, class_weight=None, dual=False, fit_intercept=True,\n",
       "          intercept_scaling=1, max_iter=100, multi_class='warn',\n",
       "          n_jobs=None, penalty='l2', random_state=None, solver='warn',\n",
       "          tol=0.0001, verbose=0, warm_start=False)"
      ]
     },
     "execution_count": 102,
     "metadata": {},
     "output_type": "execute_result"
    }
   ],
   "source": [
    "lreg.fit(X_train,y_train)"
   ]
  },
  {
   "cell_type": "code",
   "execution_count": 103,
   "metadata": {},
   "outputs": [],
   "source": [
    "y_pred=lreg.predict(X_test)"
   ]
  },
  {
   "cell_type": "code",
   "execution_count": 104,
   "metadata": {},
   "outputs": [],
   "source": [
    "lreg_score= accuracy_score(y_test,y_pred)"
   ]
  },
  {
   "cell_type": "code",
   "execution_count": 105,
   "metadata": {},
   "outputs": [],
   "source": [
    "from sklearn.tree import DecisionTreeClassifier"
   ]
  },
  {
   "cell_type": "code",
   "execution_count": 106,
   "metadata": {},
   "outputs": [],
   "source": [
    "dtc= DecisionTreeClassifier()"
   ]
  },
  {
   "cell_type": "code",
   "execution_count": 107,
   "metadata": {},
   "outputs": [
    {
     "data": {
      "text/plain": [
       "DecisionTreeClassifier(class_weight=None, criterion='gini', max_depth=None,\n",
       "            max_features=None, max_leaf_nodes=None,\n",
       "            min_impurity_decrease=0.0, min_impurity_split=None,\n",
       "            min_samples_leaf=1, min_samples_split=2,\n",
       "            min_weight_fraction_leaf=0.0, presort=False, random_state=None,\n",
       "            splitter='best')"
      ]
     },
     "execution_count": 107,
     "metadata": {},
     "output_type": "execute_result"
    }
   ],
   "source": [
    "dtc.fit(X_train,y_train)"
   ]
  },
  {
   "cell_type": "code",
   "execution_count": 108,
   "metadata": {},
   "outputs": [],
   "source": [
    "y_pred_dtc= dtc.predict(X_test)"
   ]
  },
  {
   "cell_type": "code",
   "execution_count": 109,
   "metadata": {},
   "outputs": [],
   "source": [
    "dtc_score= accuracy_score(y_test,y_pred_dtc)"
   ]
  },
  {
   "cell_type": "code",
   "execution_count": 110,
   "metadata": {},
   "outputs": [],
   "source": [
    "from sklearn.ensemble import RandomForestClassifier"
   ]
  },
  {
   "cell_type": "code",
   "execution_count": 111,
   "metadata": {},
   "outputs": [],
   "source": [
    "rf= RandomForestClassifier(n_estimators=300)"
   ]
  },
  {
   "cell_type": "code",
   "execution_count": 112,
   "metadata": {},
   "outputs": [
    {
     "data": {
      "text/plain": [
       "RandomForestClassifier(bootstrap=True, class_weight=None, criterion='gini',\n",
       "            max_depth=None, max_features='auto', max_leaf_nodes=None,\n",
       "            min_impurity_decrease=0.0, min_impurity_split=None,\n",
       "            min_samples_leaf=1, min_samples_split=2,\n",
       "            min_weight_fraction_leaf=0.0, n_estimators=300, n_jobs=None,\n",
       "            oob_score=False, random_state=None, verbose=0,\n",
       "            warm_start=False)"
      ]
     },
     "execution_count": 112,
     "metadata": {},
     "output_type": "execute_result"
    }
   ],
   "source": [
    "rf.fit(X_train,y_train)"
   ]
  },
  {
   "cell_type": "code",
   "execution_count": 113,
   "metadata": {},
   "outputs": [],
   "source": [
    "y_pred_rf= rf.predict(X_test)\n",
    "rf_score= accuracy_score(y_test,y_pred_rf)"
   ]
  },
  {
   "cell_type": "code",
   "execution_count": 114,
   "metadata": {},
   "outputs": [
    {
     "data": {
      "text/plain": [
       "application_duration                       0.183940\n",
       "wage_rate_of_pay_from                      0.054598\n",
       "prevailing_wage                            0.048203\n",
       "employment_length                          0.030514\n",
       "wage_rate_of_pay_to                        0.018654\n",
       "h1b_dependent_N                            0.015456\n",
       "pw_source_other_OFLC ONLINE DATA CENTER    0.014717\n",
       "h1b_dependent_Y                            0.013468\n",
       "naics_code_541511                          0.013079\n",
       "new_employment                             0.012681\n",
       "dtype: float64"
      ]
     },
     "execution_count": 114,
     "metadata": {},
     "output_type": "execute_result"
    }
   ],
   "source": [
    "#We can also see the top 10 most important features through using Random Forest\n",
    "\n",
    "importances_rf = pd.Series(rf.feature_importances_,\n",
    "                          index = X.columns)\n",
    "sorted_importances = importances_rf.sort_values(ascending=False)\n",
    "sorted_importances.head(10)"
   ]
  },
  {
   "cell_type": "code",
   "execution_count": 115,
   "metadata": {},
   "outputs": [],
   "source": [
    "from sklearn.naive_bayes import GaussianNB, BernoulliNB, MultinomialNB"
   ]
  },
  {
   "cell_type": "code",
   "execution_count": 116,
   "metadata": {},
   "outputs": [],
   "source": [
    "gnb = GaussianNB()"
   ]
  },
  {
   "cell_type": "code",
   "execution_count": 117,
   "metadata": {},
   "outputs": [
    {
     "data": {
      "text/plain": [
       "GaussianNB(priors=None, var_smoothing=1e-09)"
      ]
     },
     "execution_count": 117,
     "metadata": {},
     "output_type": "execute_result"
    }
   ],
   "source": [
    "gnb.fit(X_train,y_train)"
   ]
  },
  {
   "cell_type": "code",
   "execution_count": 118,
   "metadata": {},
   "outputs": [],
   "source": [
    "y_pred_nb= gnb.predict(X_test)"
   ]
  },
  {
   "cell_type": "code",
   "execution_count": 119,
   "metadata": {},
   "outputs": [],
   "source": [
    "nb_score= accuracy_score(y_test,y_pred_nb)"
   ]
  },
  {
   "cell_type": "code",
   "execution_count": 120,
   "metadata": {},
   "outputs": [],
   "source": [
    "scores = {}\n",
    "scores[\"Logistic Regression\"]= lreg_score\n",
    "scores[\"Decision Tree\"]= dtc_score\n",
    "scores[\"Random Forest\"]= rf_score\n",
    "scores[\"Naive Bayes\"]= nb_score"
   ]
  },
  {
   "cell_type": "code",
   "execution_count": 121,
   "metadata": {},
   "outputs": [
    {
     "data": {
      "text/plain": [
       "{'Logistic Regression': 0.7552844131294036,\n",
       " 'Decision Tree': 0.8334765423612305,\n",
       " 'Random Forest': 0.8530675373775563,\n",
       " 'Naive Bayes': 0.5846365354871971}"
      ]
     },
     "execution_count": 121,
     "metadata": {},
     "output_type": "execute_result"
    }
   ],
   "source": [
    "scores"
   ]
  },
  {
   "cell_type": "code",
   "execution_count": 122,
   "metadata": {},
   "outputs": [],
   "source": [
    "scores_df= pd.DataFrame.from_dict(scores,orient= \"index\", columns= [\"Accuracy Scores\"])"
   ]
  },
  {
   "cell_type": "code",
   "execution_count": 123,
   "metadata": {},
   "outputs": [
    {
     "data": {
      "text/html": [
       "<div>\n",
       "<style scoped>\n",
       "    .dataframe tbody tr th:only-of-type {\n",
       "        vertical-align: middle;\n",
       "    }\n",
       "\n",
       "    .dataframe tbody tr th {\n",
       "        vertical-align: top;\n",
       "    }\n",
       "\n",
       "    .dataframe thead th {\n",
       "        text-align: right;\n",
       "    }\n",
       "</style>\n",
       "<table border=\"1\" class=\"dataframe\">\n",
       "  <thead>\n",
       "    <tr style=\"text-align: right;\">\n",
       "      <th></th>\n",
       "      <th>Accuracy Scores</th>\n",
       "    </tr>\n",
       "  </thead>\n",
       "  <tbody>\n",
       "    <tr>\n",
       "      <th>Logistic Regression</th>\n",
       "      <td>0.755284</td>\n",
       "    </tr>\n",
       "    <tr>\n",
       "      <th>Decision Tree</th>\n",
       "      <td>0.833477</td>\n",
       "    </tr>\n",
       "    <tr>\n",
       "      <th>Random Forest</th>\n",
       "      <td>0.853068</td>\n",
       "    </tr>\n",
       "    <tr>\n",
       "      <th>Naive Bayes</th>\n",
       "      <td>0.584637</td>\n",
       "    </tr>\n",
       "  </tbody>\n",
       "</table>\n",
       "</div>"
      ],
      "text/plain": [
       "                     Accuracy Scores\n",
       "Logistic Regression         0.755284\n",
       "Decision Tree               0.833477\n",
       "Random Forest               0.853068\n",
       "Naive Bayes                 0.584637"
      ]
     },
     "execution_count": 123,
     "metadata": {},
     "output_type": "execute_result"
    }
   ],
   "source": [
    "scores_df"
   ]
  },
  {
   "cell_type": "code",
   "execution_count": 130,
   "metadata": {},
   "outputs": [],
   "source": [
    "#Random forest gives the highest accuracy"
   ]
  },
  {
   "cell_type": "code",
   "execution_count": null,
   "metadata": {},
   "outputs": [],
   "source": []
  },
  {
   "cell_type": "code",
   "execution_count": null,
   "metadata": {
    "scrolled": true
   },
   "outputs": [],
   "source": []
  },
  {
   "cell_type": "code",
   "execution_count": null,
   "metadata": {},
   "outputs": [],
   "source": []
  },
  {
   "cell_type": "code",
   "execution_count": null,
   "metadata": {},
   "outputs": [],
   "source": []
  }
 ],
 "metadata": {
  "kernelspec": {
   "display_name": "Python 3",
   "language": "python",
   "name": "python3"
  },
  "language_info": {
   "codemirror_mode": {
    "name": "ipython",
    "version": 3
   },
   "file_extension": ".py",
   "mimetype": "text/x-python",
   "name": "python",
   "nbconvert_exporter": "python",
   "pygments_lexer": "ipython3",
   "version": "3.7.1"
  }
 },
 "nbformat": 4,
 "nbformat_minor": 2
}
